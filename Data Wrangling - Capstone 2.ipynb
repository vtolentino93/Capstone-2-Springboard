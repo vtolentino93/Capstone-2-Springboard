{
 "cells": [
  {
   "cell_type": "code",
   "execution_count": 1,
   "id": "0d07443a",
   "metadata": {},
   "outputs": [],
   "source": [
    "import pandas as pd\n",
    "#import scrapy\n",
    "import requests\n",
    "from bs4 import BeautifulSoup\n",
    "import html5lib\n",
    "\n",
    "\n",
    "#pd.set_option('display.expand_frame_repr', False)\n",
    "\n",
    "\n",
    "#cant pull data from https://www.businessofapps.com\n",
    "#cant pull data from https://www.investing.com\n",
    "#able to pull from https://mobilemarketingreads.com\n",
    "# can try https://datareportal.com"
   ]
  },
  {
   "cell_type": "markdown",
   "id": "6590349d",
   "metadata": {},
   "source": [
    "## Twitter Data"
   ]
  },
  {
   "cell_type": "markdown",
   "id": "e89a79d5",
   "metadata": {},
   "source": [
    "Miscellaneous Information:\n",
    "Launch Date March 21, 2006"
   ]
  },
  {
   "cell_type": "code",
   "execution_count": 2,
   "id": "57a2d254",
   "metadata": {},
   "outputs": [
    {
     "name": "stdout",
     "output_type": "stream",
     "text": [
      "200\n"
     ]
    }
   ],
   "source": [
    "# get the response in the form of html\n",
    "twitterurl1=\"https://en.wikipedia.org/wiki/Twitter,_Inc.\"\n",
    "response=requests.get(twitterurl1)\n",
    "print(response.status_code)"
   ]
  },
  {
   "cell_type": "code",
   "execution_count": 3,
   "id": "c4ad3447",
   "metadata": {},
   "outputs": [],
   "source": [
    "twittersoup1 = BeautifulSoup(response.text, 'html.parser')\n",
    "twitterfinances=twittersoup1.find('table',{'class':\"wikitable\"})"
   ]
  },
  {
   "cell_type": "code",
   "execution_count": 4,
   "id": "8e495904",
   "metadata": {},
   "outputs": [
    {
     "name": "stdout",
     "output_type": "stream",
     "text": [
      "         Year  Revenuein mil. US$ Net incomein mil. US$  \\\n",
      "0   2010[154]                  28                   −67   \n",
      "1   2011[154]                 106                  −164   \n",
      "2   2012[154]                 317                   −79   \n",
      "3   2013[154]                 665                  −645   \n",
      "4   2014[155]                1403                  −578   \n",
      "5   2015[156]                2218                  −521   \n",
      "6   2016[157]                2530                  −457   \n",
      "7   2017[158]                2443                  −108   \n",
      "8   2018[159]                3042                  1206   \n",
      "9   2019[160]                3459                  1466   \n",
      "10  2020[161]                3716                −1,136   \n",
      "11  2021[162]                5077                  −221   \n",
      "\n",
      "    Total assetsin mil. US$ Employees  \n",
      "0                         0         —  \n",
      "1                       721         —  \n",
      "2                       832      2000  \n",
      "3                      3366      2712  \n",
      "4                      5583      3638  \n",
      "5                      6442      3898  \n",
      "6                      6870      3583  \n",
      "7                      7412      3372  \n",
      "8                     10163      3900  \n",
      "9                     12703      4900  \n",
      "10                    13379    5,500+  \n",
      "11                    14060    7,500+  \n"
     ]
    }
   ],
   "source": [
    "twitterdf1=pd.read_html(str(twitterfinances))\n",
    "# convert list to dataframe\n",
    "twitterdf1=pd.DataFrame(twitterdf1[0])\n",
    "print(twitterdf1)"
   ]
  },
  {
   "cell_type": "markdown",
   "id": "5d2497e5",
   "metadata": {},
   "source": [
    "https://financesonline.com/number-of-twitter-users/"
   ]
  },
  {
   "cell_type": "markdown",
   "id": "28343755",
   "metadata": {},
   "source": [
    "## Instagram Data"
   ]
  },
  {
   "cell_type": "markdown",
   "id": "0ef0056f",
   "metadata": {},
   "source": [
    "Miscellaneous Information:\n",
    "Launch Date October 6, 2010"
   ]
  },
  {
   "cell_type": "code",
   "execution_count": 5,
   "id": "e157e47a",
   "metadata": {},
   "outputs": [
    {
     "name": "stdout",
     "output_type": "stream",
     "text": [
      "200\n"
     ]
    }
   ],
   "source": [
    "instagramurl1 = 'https://mobilemarketingreads.com/instagram-revenue-and-usage-statistics-2020/'\n",
    "response=requests.get(instagramurl1)\n",
    "print(response.status_code)"
   ]
  },
  {
   "cell_type": "code",
   "execution_count": 6,
   "id": "6e97a6c7",
   "metadata": {},
   "outputs": [],
   "source": [
    "instasoup1 = BeautifulSoup(response.text, 'html.parser')\n",
    "insta1 = instasoup1.find('figure', {'class':\"wp-block-table\"})"
   ]
  },
  {
   "cell_type": "code",
   "execution_count": 7,
   "id": "b2eae1ba",
   "metadata": {},
   "outputs": [
    {
     "name": "stdout",
     "output_type": "stream",
     "text": [
      "          0                       1\n",
      "0      Year  Instagram Active Users\n",
      "1   Q1 2022            1.96 billion\n",
      "2      2021            1.92 billion\n",
      "3      2020            1.85 billion\n",
      "4      2019            1.66 billion\n",
      "5      2018            1.52 billion\n",
      "6      2017             1.4 billion\n",
      "7      2016            1.23 billion\n",
      "8      2015               1 billion\n",
      "9      2014             890 million\n",
      "10     2013             757 million\n",
      "11     2012             618 million\n",
      "12     2011             418 million\n"
     ]
    }
   ],
   "source": [
    "instadf1=pd.read_html(str(insta1))\n",
    "#number of active users\n",
    "instadf1=pd.DataFrame(instadf1[0])\n",
    "print(instadf1)"
   ]
  },
  {
   "cell_type": "code",
   "execution_count": 8,
   "id": "a8178395",
   "metadata": {},
   "outputs": [],
   "source": [
    "insta2 = instasoup1.find_all('figure', {'class':\"wp-block-table\"})[-1]"
   ]
  },
  {
   "cell_type": "code",
   "execution_count": 9,
   "id": "4ddd1254",
   "metadata": {},
   "outputs": [
    {
     "name": "stdout",
     "output_type": "stream",
     "text": [
      "      0                         1\n",
      "0  Year  Instagram Annual Revenue\n",
      "1  2021             $47.6 billion\n",
      "2  2020             $26.8 billion\n",
      "3  2019             $19.4 billion\n",
      "4  2018             $10.3 billion\n",
      "5  2017              $4.1 billion\n",
      "6  2016              $1.8 billion\n",
      "7  2015              $500 million\n"
     ]
    }
   ],
   "source": [
    "instadf2 = pd.read_html(str(insta2))\n",
    "#instagram annual revenue\n",
    "instadf2 = pd.DataFrame(instadf2[0])\n",
    "print(instadf2)"
   ]
  },
  {
   "cell_type": "markdown",
   "id": "84945d43",
   "metadata": {},
   "source": [
    "## LinkedIn Data"
   ]
  },
  {
   "cell_type": "markdown",
   "id": "e9b331c4",
   "metadata": {},
   "source": [
    "Miscellaneous Information:\n",
    "Launch Date May 5, 2003"
   ]
  },
  {
   "cell_type": "code",
   "execution_count": 10,
   "id": "2566c832",
   "metadata": {},
   "outputs": [],
   "source": [
    "#linkedinurl1 = 'https://mobilemarketingreads.com/linkedin-revenue-and-user-statistics/'\n",
    "#response=requests.get(linkedinurl1)\n",
    "#print(response.status_code)"
   ]
  },
  {
   "cell_type": "code",
   "execution_count": 11,
   "id": "5a8509cd",
   "metadata": {},
   "outputs": [],
   "source": [
    "#linkedsoup1 = BeautifulSoup(response.text, 'html.parser')\n",
    "#linkedin = linkedsoup1.find('figure',{'class':\"bChart\"})"
   ]
  },
  {
   "cell_type": "code",
   "execution_count": 12,
   "id": "83fa2a11",
   "metadata": {},
   "outputs": [],
   "source": [
    "#linkedindf1=pd.read_html(str(linkedin))\n",
    "    #number of active users\n",
    "#linkedindf1 = pd.DataFrame(linkedindf1[0])\n",
    "#print(linkedindf1)"
   ]
  },
  {
   "cell_type": "markdown",
   "id": "2c04cd78",
   "metadata": {},
   "source": [
    "^this doesnt work since we cant pull from pictures mobilemarketingreads.com"
   ]
  },
  {
   "cell_type": "markdown",
   "id": "139c9dd2",
   "metadata": {},
   "source": [
    "## TikTok Data"
   ]
  },
  {
   "cell_type": "markdown",
   "id": "fd5576a3",
   "metadata": {},
   "source": [
    "Miscellaneous Information:\n",
    "Launch Date September 2016"
   ]
  },
  {
   "cell_type": "code",
   "execution_count": 13,
   "id": "ac477937",
   "metadata": {},
   "outputs": [
    {
     "name": "stdout",
     "output_type": "stream",
     "text": [
      "200\n"
     ]
    }
   ],
   "source": [
    "tiktokurl1 = 'https://mobilemarketingreads.com/tiktok-revenue-and-usage-statistics-2020/'\n",
    "response=requests.get(tiktokurl1)\n",
    "print(response.status_code)"
   ]
  },
  {
   "cell_type": "code",
   "execution_count": 14,
   "id": "f4a1487b",
   "metadata": {},
   "outputs": [],
   "source": [
    "tiktoksoup1 = BeautifulSoup(response.text, 'html.parser')\n",
    "tiktok=tiktoksoup1.find_all('figure',{'class':\"wp-block-table\"})[-1]"
   ]
  },
  {
   "cell_type": "code",
   "execution_count": 15,
   "id": "96e788a6",
   "metadata": {},
   "outputs": [
    {
     "name": "stdout",
     "output_type": "stream",
     "text": [
      "      0                            1\n",
      "0  Year  TikTok Monthly Active Users\n",
      "1  2021                    1 billion\n",
      "2  2020                  689 million\n",
      "3  2019                  508 million\n",
      "4  2018                  271 million\n",
      "5  2017                   55 million\n"
     ]
    }
   ],
   "source": [
    "tiktokdf1=pd.read_html(str(tiktok))\n",
    "#number of active users\n",
    "tiktokdf1=pd.DataFrame(tiktokdf1[0])\n",
    "print(tiktokdf1)"
   ]
  },
  {
   "cell_type": "markdown",
   "id": "534587a2",
   "metadata": {},
   "source": [
    "## Facebook"
   ]
  },
  {
   "cell_type": "markdown",
   "id": "bbbf9b41",
   "metadata": {},
   "source": [
    "Miscellaneous Information:\n",
    "Launch Date "
   ]
  },
  {
   "cell_type": "markdown",
   "id": "c112058a",
   "metadata": {},
   "source": [
    "same as linkedin for mobilemarketingreads.com, can't pull images"
   ]
  },
  {
   "cell_type": "markdown",
   "id": "c35341c0",
   "metadata": {},
   "source": [
    "https://financesonline.com/facebook-statistics/#financial"
   ]
  },
  {
   "cell_type": "markdown",
   "id": "b7e55f41",
   "metadata": {},
   "source": [
    "https://investor.fb.com/financials/default.aspx"
   ]
  },
  {
   "cell_type": "code",
   "execution_count": 16,
   "id": "c86be198",
   "metadata": {},
   "outputs": [],
   "source": [
    "#facebookurl1 = 'https://www.investing.com/academy/statistics/facebook-meta-facts/'\n",
    "#response=requests.get(facebookurl1)\n",
    "#print(response.status_code)\n",
    "#facebooksoup1 = BeautifulSoup(response.text, 'html.parser')\n",
    "#facebook=facebooksoup1.find('figure',{'class':\"wp-block-table\"})\n",
    "#facebookdf1 = pd.read_html(str(facebook))\n",
    "#facebookdf1 = pd.DataFrame(facebookdf1[0])\n",
    "#print(facebookdf1.head())"
   ]
  },
  {
   "cell_type": "markdown",
   "id": "4402d2e2",
   "metadata": {},
   "source": [
    "## Twitter, TikTok, LinkedIn, Instagram Trend Data\n",
    "\n",
    "trends.google.com\n",
    "\n",
    "\n",
    "keeping facebook will push many trends to below 1, so it was decided to remove this data from the trends"
   ]
  },
  {
   "cell_type": "markdown",
   "id": "6f5bd065",
   "metadata": {},
   "source": [
    "trends in maryland only 2004-2020"
   ]
  },
  {
   "cell_type": "code",
   "execution_count": 17,
   "id": "5b6bd94b",
   "metadata": {},
   "outputs": [
    {
     "name": "stdout",
     "output_type": "stream",
     "text": [
      "                                                                    Category: All categories\n",
      "Month   twitter: (Maryland) linkedin: (Maryland) tiktok: (Maryland)    instagram: (Maryland)\n",
      "2004-01 1                   2                    0                                         0\n",
      "2004-02 0                   0                    0                                         1\n",
      "2004-03 0                   4                    0                                         0\n",
      "2004-04 0                   0                    0                                         0\n"
     ]
    }
   ],
   "source": [
    "suicidetrendsmd = pd.read_csv(r'C:\\Users\\vtole\\Springboard\\Springboard\\Capstone-2-Springboard\\multiTimelineMaryland.csv')\n",
    "suicidetrendsmd = pd.DataFrame(suicidetrendsmd)\n",
    "print(suicidetrendsmd.head())"
   ]
  },
  {
   "cell_type": "markdown",
   "id": "e0700c46",
   "metadata": {},
   "source": [
    "trends in california"
   ]
  },
  {
   "cell_type": "code",
   "execution_count": 26,
   "id": "ceb6a10c",
   "metadata": {},
   "outputs": [
    {
     "name": "stdout",
     "output_type": "stream",
     "text": [
      "                                                                          Category: All categories\n",
      "Month   twitter: (California) linkedin: (California) tiktok: (California)  instagram: (California)\n",
      "2004-01 0                     1                      0                                           0\n",
      "2004-02 <1                    <1                     0                                           0\n",
      "2004-03 0                     0                      1                                           1\n",
      "2004-04 0                     <1                     0                                           0\n",
      "                 Category: All categories\n",
      "2020-08 62 18 28                       81\n",
      "2020-09 59 16 27                       77\n",
      "2020-10 69 13 19                       76\n",
      "2020-11 89 11 18                       71\n",
      "2020-12 60 11 21                       74\n"
     ]
    }
   ],
   "source": [
    "suicidetrendsca = pd.read_csv(r'C:\\Users\\vtole\\Springboard\\Springboard\\Capstone-2-Springboard\\multiTimelineCalifornia.csv')\n",
    "suicidetrendsca = pd.DataFrame(suicidetrendsca)\n",
    "print(suicidetrendsca.head())\n",
    "print(suicidetrendsca.tail())"
   ]
  },
  {
   "cell_type": "markdown",
   "id": "d196ff97",
   "metadata": {},
   "source": [
    "trends in the entire united states"
   ]
  },
  {
   "cell_type": "code",
   "execution_count": 19,
   "id": "456cfe42",
   "metadata": {},
   "outputs": [
    {
     "name": "stdout",
     "output_type": "stream",
     "text": [
      "                                                                                      Category: All categories\n",
      "Month   twitter: (United States) linkedin: (United States) tiktok: (United States)  instagram: (United States)\n",
      "2004-01 0                        <1                        <1                                               <1\n",
      "2004-02 0                        <1                        0                                                 0\n",
      "2004-03 0                        <1                        0                                                <1\n",
      "2004-04 0                        <1                        <1                                                0\n"
     ]
    }
   ],
   "source": [
    "suicidetrendsusa = pd.read_csv(r'C:\\Users\\vtole\\Springboard\\Springboard\\Capstone-2-Springboard\\multiTimelineUSA.csv')\n",
    "suicidetrendsusa = pd.DataFrame(suicidetrendsusa)\n",
    "print(suicidetrendsusa.head())"
   ]
  },
  {
   "cell_type": "markdown",
   "id": "7aece94b",
   "metadata": {},
   "source": [
    "## Suicide Data"
   ]
  },
  {
   "cell_type": "markdown",
   "id": "347038c3",
   "metadata": {},
   "source": [
    "Miscellaneous Information:\n",
    "Start Date of Data"
   ]
  },
  {
   "cell_type": "code",
   "execution_count": 20,
   "id": "c5e275d3",
   "metadata": {},
   "outputs": [
    {
     "name": "stdout",
     "output_type": "stream",
     "text": [
      "  State / Region  1990  1991  1992  1993  1994  1995  1996  1997  1998  ...  \\\n",
      "0        Alabama   514   539   523   551   532   563   513   512   569  ...   \n",
      "1         Alaska    70    73    90    97   121   103   120   128   129  ...   \n",
      "2        Arizona   686   662   653   727   767   805   726   757   804  ...   \n",
      "3       Arkansas   293   283   293   317   364   360   323   356   344  ...   \n",
      "4     California  3708  3716  3723  3875  3712  3694  3408  3430  3415  ...   \n",
      "\n",
      "   2011  2012  2013  2014  2015  2016  2017  2018    2019  2020  \n",
      "0   654   724   721   715   750   788   836   823   804.0   793  \n",
      "1   143   168   171   167   201   193   200   184   210.0   204  \n",
      "2  1160  1156  1163  1244  1276  1271  1327  1438  1419.0  1363  \n",
      "3   462   485   516   515   577   555   631   554   548.0   583  \n",
      "4  3996  3893  4025  4214  4167  4294  4312  4491  4436.0  4144  \n",
      "\n",
      "[5 rows x 32 columns]\n"
     ]
    }
   ],
   "source": [
    "#table ripped from https://save.org/wp-content/uploads/2022/01/StateNumberOfSui1990to2020TABLE.pdf\n",
    "#copied, pasted onto GoogleSheets\n",
    "#used \" =SPLIT(A1, \" \") \" to split the data\n",
    "#cleaned specific rows where columns did not match up\n",
    "#exported GoogleSheet into .csv, saved into Capstone 2 \n",
    "suicidebyyearstate = pd.read_csv(r'C:\\Users\\vtole\\Springboard\\Springboard\\Capstone-2-Springboard\\Number of Suicides Per Year Per State.csv')\n",
    "suicidebyyearstate = pd.DataFrame(suicidebyyearstate)\n",
    "print(suicidebyyearstate.head())"
   ]
  },
  {
   "cell_type": "markdown",
   "id": "9e6c3da4",
   "metadata": {},
   "source": [
    "https://save.org/about-suicide/suicide-statistics/"
   ]
  },
  {
   "cell_type": "markdown",
   "id": "629a498f",
   "metadata": {},
   "source": [
    "https://wisqars.cdc.gov/data/explore-data/explore/selected-years?ex=eyJ0YmkiOlsiMCJdLCJpbnRlbnRzIjpbIjIiXSwibWVjaHMiOlsiMjA4MTAiXSwic3RhdGUiOlsiMDEiLCIwMiIsIjA0IiwiMDUiLCIwNiIsIjA4IiwiMDkiLCIxMCIsIjExIiwiMTIiLCIxMyIsIjE1IiwiMTYiLCIxNyIsIjE4IiwiMTkiLCIyMCIsIjIxIiwiMjIiLCIyMyIsIjI0IiwiMjUiLCIyNiIsIjI3IiwiMjgiLCIyOSIsIjMwIiwiMzEiLCIzMiIsIjMzIiwiMzQiLCIzNSIsIjM2IiwiMzciLCIzOCIsIjM5IiwiNDAiLCI0MSIsIjQyIiwiNDQiLCI0NSIsIjQ2IiwiNDciLCI0OCIsIjQ5IiwiNTAiLCI1MSIsIjUzIiwiNTQiLCI1NSIsIjU2Il0sInJhY2UiOlsiMSIsIjIiLCIzIiwiNCJdLCJldGhuaWN0eSI6WyIxIiwiMiIsIjMiXSwibWV0cm8iOlsiMSIsIjIiXSwic2V4IjpbIjEiLCIyIl0sImFnZUdyb3Vwc01pbiI6WyIwMC0wNCJdLCJhZ2VHcm91cHNNYXgiOlsiMTk5Il0sImN1c3RvbUFnZXNNaW4iOlsiMCJdLCJjdXN0b21BZ2VzTWF4IjpbIjE5OSJdLCJmcm9tWWVhciI6WyIyMDAxIl0sInRvWWVhciI6WyIyMDIwIl0sImFnZWJ1dHRuIjoiNVlyIiwiZ3JvdXBieTEiOiJBR0VHUCIsInlwbGxBZ2VzIjpbIjY1Il19"
   ]
  },
  {
   "cell_type": "markdown",
   "id": "c2b90d33",
   "metadata": {},
   "source": [
    "https://catalog.data.gov/dataset/ship-suicide-rate-2009-2017\n",
    "Maryland Suicide Data with race/ethnicity statistics"
   ]
  },
  {
   "cell_type": "code",
   "execution_count": 21,
   "id": "b95fe87c",
   "metadata": {},
   "outputs": [
    {
     "name": "stdout",
     "output_type": "stream",
     "text": [
      "       Jurisdiction  Value                     Race/ ethnicity       Year  \\\n",
      "0             State    9.3  All races/ethnicities (aggregated)  2015-2017   \n",
      "1          Allegany    NaN  All races/ethnicities (aggregated)  2015-2017   \n",
      "2      Anne Arundel   12.1  All races/ethnicities (aggregated)  2015-2017   \n",
      "3    Baltimore City    8.2  All races/ethnicities (aggregated)  2015-2017   \n",
      "4  Baltimore County    9.7  All races/ethnicities (aggregated)  2015-2017   \n",
      "\n",
      "        Measure  \n",
      "0  Suicide rate  \n",
      "1  Suicide rate  \n",
      "2  Suicide rate  \n",
      "3  Suicide rate  \n",
      "4  Suicide rate  \n"
     ]
    }
   ],
   "source": [
    "suicidemaryland = pd.read_csv(r'C:\\Users\\vtole\\Springboard\\Springboard\\Capstone-2-Springboard\\SHIP_Suicide_Rate_2009-2017.csv')\n",
    "suicidemaryland = pd.DataFrame(suicidemaryland)\n",
    "print(suicidemaryland.head())"
   ]
  },
  {
   "cell_type": "markdown",
   "id": "0dd86c1a",
   "metadata": {},
   "source": [
    "https://catalog.data.gov/dataset/suicide-deaths-per-100000-population-lghc-indicator-8d7bb\n",
    "Caliornia Suicide Data"
   ]
  },
  {
   "cell_type": "code",
   "execution_count": 22,
   "id": "848e1e7a",
   "metadata": {},
   "outputs": [
    {
     "name": "stdout",
     "output_type": "stream",
     "text": [
      "  Indicator   Geography  Year Strata Strata Name  Numerator  Denominator  \\\n",
      "0   Suicide  CALIFORNIA  2000    Sex      Female        682     17080000   \n",
      "1   Suicide  CALIFORNIA  2000    Sex        Male       2431     16920000   \n",
      "2   Suicide  CALIFORNIA  2000    Sex       Total       3113     34000000   \n",
      "3   Suicide  CALIFORNIA  2001    Sex      Female        685     17340000   \n",
      "4   Suicide  CALIFORNIA  2001    Sex        Male       2571     17170000   \n",
      "\n",
      "     Rate  Age Adjusted Rate  \n",
      "0   3.993              4.067  \n",
      "1  14.370             15.890  \n",
      "2   9.156              9.564  \n",
      "3   3.950              4.005  \n",
      "4  14.970             16.410  \n"
     ]
    }
   ],
   "source": [
    "suicidecalifornia = pd.read_csv(r'C:\\Users\\vtole\\Springboard\\Springboard\\Capstone-2-Springboard\\suicide-lghc-indicator-21.csv')\n",
    "suicidecalifornia = pd.DataFrame(suicidecalifornia)\n",
    "print(suicidecalifornia.head())"
   ]
  },
  {
   "cell_type": "markdown",
   "id": "d3cb4155",
   "metadata": {},
   "source": [
    "https://catalog.data.gov/dataset/death-rates-for-suicide-by-sex-race-hispanic-origin-and-age-united-states\n",
    "United States Suicide Data"
   ]
  },
  {
   "cell_type": "code",
   "execution_count": 23,
   "id": "8290dfbd",
   "metadata": {},
   "outputs": [
    {
     "name": "stdout",
     "output_type": "stream",
     "text": [
      "                 INDICATOR                                               UNIT  \\\n",
      "0  Death rates for suicide  Deaths per 100,000 resident population, age-ad...   \n",
      "1  Death rates for suicide  Deaths per 100,000 resident population, age-ad...   \n",
      "2  Death rates for suicide  Deaths per 100,000 resident population, age-ad...   \n",
      "3  Death rates for suicide  Deaths per 100,000 resident population, age-ad...   \n",
      "4  Death rates for suicide  Deaths per 100,000 resident population, age-ad...   \n",
      "\n",
      "   UNIT_NUM STUB_NAME  STUB_NAME_NUM   STUB_LABEL  STUB_LABEL_NUM  YEAR  \\\n",
      "0         1     Total              0  All persons             0.0  1950   \n",
      "1         1     Total              0  All persons             0.0  1960   \n",
      "2         1     Total              0  All persons             0.0  1970   \n",
      "3         1     Total              0  All persons             0.0  1980   \n",
      "4         1     Total              0  All persons             0.0  1981   \n",
      "\n",
      "   YEAR_NUM       AGE  AGE_NUM  ESTIMATE FLAG  \n",
      "0         1  All ages      0.0      13.2  NaN  \n",
      "1         2  All ages      0.0      12.5  NaN  \n",
      "2         3  All ages      0.0      13.1  NaN  \n",
      "3         4  All ages      0.0      12.2  NaN  \n",
      "4         5  All ages      0.0      12.3  NaN  \n"
     ]
    }
   ],
   "source": [
    "suicideusa = pd.read_csv(r'C:\\Users\\vtole\\Springboard\\Springboard\\Capstone-2-Springboard\\Death_rates_for_suicide__by_sex__race__Hispanic_origin__and_age__United_States.csv')\n",
    "suicideusa = pd.DataFrame(suicideusa)\n",
    "print(suicideusa.head())"
   ]
  },
  {
   "cell_type": "code",
   "execution_count": null,
   "id": "705e4102",
   "metadata": {},
   "outputs": [],
   "source": []
  },
  {
   "cell_type": "code",
   "execution_count": null,
   "id": "44a7e2c4",
   "metadata": {},
   "outputs": [],
   "source": []
  }
 ],
 "metadata": {
  "kernelspec": {
   "display_name": "Python 3 (ipykernel)",
   "language": "python",
   "name": "python3"
  },
  "language_info": {
   "codemirror_mode": {
    "name": "ipython",
    "version": 3
   },
   "file_extension": ".py",
   "mimetype": "text/x-python",
   "name": "python",
   "nbconvert_exporter": "python",
   "pygments_lexer": "ipython3",
   "version": "3.9.12"
  }
 },
 "nbformat": 4,
 "nbformat_minor": 5
}
