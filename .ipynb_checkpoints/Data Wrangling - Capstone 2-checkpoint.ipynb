{
 "cells": [
  {
   "cell_type": "code",
   "execution_count": 1,
   "id": "0d07443a",
   "metadata": {},
   "outputs": [],
   "source": [
    "import pandas as pd\n",
    "#import scrapy\n",
    "import requests\n",
    "from bs4 import BeautifulSoup\n",
    "import html5lib\n",
    "\n",
    "\n",
    "pd.set_option('display.expand_frame_repr', False)\n",
    "\n",
    "\n",
    "#cant pull data from https://www.businessofapps.com\n",
    "#cant pull data from https://www.investing.com\n",
    "\n",
    "#able to pull from https://mobilemarketingreads.com\n",
    "\n",
    "#try https://datareportal.com"
   ]
  },
  {
   "cell_type": "markdown",
   "id": "6590349d",
   "metadata": {},
   "source": [
    "## Twitter Data"
   ]
  },
  {
   "cell_type": "markdown",
   "id": "e89a79d5",
   "metadata": {},
   "source": [
    "Miscellaneous Information:\n",
    "Launch Date March 21, 2006"
   ]
  },
  {
   "cell_type": "code",
   "execution_count": 2,
   "id": "57a2d254",
   "metadata": {},
   "outputs": [
    {
     "name": "stdout",
     "output_type": "stream",
     "text": [
      "200\n"
     ]
    }
   ],
   "source": [
    "# get the response in the form of html\n",
    "\n",
    "twitterurl1=\"https://en.wikipedia.org/wiki/Twitter,_Inc.\"\n",
    "\n",
    "response=requests.get(twitterurl1)\n",
    "print(response.status_code)"
   ]
  },
  {
   "cell_type": "code",
   "execution_count": 3,
   "id": "c4ad3447",
   "metadata": {},
   "outputs": [],
   "source": [
    "twittersoup1 = BeautifulSoup(response.text, 'html.parser')\n",
    "twitterfinances=twittersoup1.find('table',{'class':\"wikitable\"})"
   ]
  },
  {
   "cell_type": "code",
   "execution_count": 4,
   "id": "8e495904",
   "metadata": {},
   "outputs": [
    {
     "name": "stdout",
     "output_type": "stream",
     "text": [
      "         Year  Revenuein mil. US$ Net incomein mil. US$  Total assetsin mil. US$ Employees\n",
      "0   2010[153]                  28                   −67                        0         —\n",
      "1   2011[153]                 106                  −164                      721         —\n",
      "2   2012[153]                 317                   −79                      832      2000\n",
      "3   2013[153]                 665                  −645                     3366      2712\n",
      "4   2014[154]                1403                  −578                     5583      3638\n",
      "5   2015[155]                2218                  −521                     6442      3898\n",
      "6   2016[156]                2530                  −457                     6870      3583\n",
      "7   2017[157]                2443                  −108                     7412      3372\n",
      "8   2018[158]                3042                  1206                    10163      3900\n",
      "9   2019[159]                3459                  1466                    12703      4900\n",
      "10  2020[160]                3716                −1,136                    13379    5,500+\n",
      "11  2021[161]                5077                  −221                    14060    7,500+\n"
     ]
    }
   ],
   "source": [
    "twitterdf1=pd.read_html(str(twitterfinances))\n",
    "\n",
    "# convert list to dataframe\n",
    "\n",
    "twitterdf1=pd.DataFrame(twitterdf1[0])\n",
    "print(twitterdf1)"
   ]
  },
  {
   "cell_type": "markdown",
   "id": "5d2497e5",
   "metadata": {},
   "source": [
    "https://financesonline.com/number-of-twitter-users/"
   ]
  },
  {
   "cell_type": "code",
   "execution_count": null,
   "id": "47d7a751",
   "metadata": {},
   "outputs": [],
   "source": []
  },
  {
   "cell_type": "code",
   "execution_count": null,
   "id": "2c532b51",
   "metadata": {},
   "outputs": [],
   "source": []
  },
  {
   "cell_type": "code",
   "execution_count": null,
   "id": "26837728",
   "metadata": {},
   "outputs": [],
   "source": []
  },
  {
   "cell_type": "code",
   "execution_count": null,
   "id": "e4d7e6a3",
   "metadata": {},
   "outputs": [],
   "source": []
  },
  {
   "cell_type": "code",
   "execution_count": null,
   "id": "69a940cb",
   "metadata": {},
   "outputs": [],
   "source": []
  },
  {
   "cell_type": "code",
   "execution_count": null,
   "id": "92b0a954",
   "metadata": {},
   "outputs": [],
   "source": []
  },
  {
   "cell_type": "markdown",
   "id": "28343755",
   "metadata": {},
   "source": [
    "## Instagram Data"
   ]
  },
  {
   "cell_type": "markdown",
   "id": "0ef0056f",
   "metadata": {},
   "source": [
    "Miscellaneous Information:\n",
    "Launch Date October 6, 2010"
   ]
  },
  {
   "cell_type": "code",
   "execution_count": 5,
   "id": "e157e47a",
   "metadata": {},
   "outputs": [
    {
     "name": "stdout",
     "output_type": "stream",
     "text": [
      "200\n"
     ]
    }
   ],
   "source": [
    "instagramurl1 = 'https://mobilemarketingreads.com/instagram-revenue-and-usage-statistics-2020/'\n",
    "\n",
    "response=requests.get(instagramurl1)\n",
    "print(response.status_code)"
   ]
  },
  {
   "cell_type": "code",
   "execution_count": 6,
   "id": "6e97a6c7",
   "metadata": {},
   "outputs": [],
   "source": [
    "instasoup1 = BeautifulSoup(response.text, 'html.parser')\n",
    "insta1 = instasoup1.find('figure', {'class':\"wp-block-table\"})"
   ]
  },
  {
   "cell_type": "code",
   "execution_count": 7,
   "id": "b2eae1ba",
   "metadata": {},
   "outputs": [
    {
     "name": "stdout",
     "output_type": "stream",
     "text": [
      "          0                       1\n",
      "0      Year  Instagram Active Users\n",
      "1   Q1 2022            1.96 billion\n",
      "2      2021            1.92 billion\n",
      "3      2020            1.85 billion\n",
      "4      2019            1.66 billion\n",
      "5      2018            1.52 billion\n",
      "6      2017             1.4 billion\n",
      "7      2016            1.23 billion\n",
      "8      2015               1 billion\n",
      "9      2014             890 million\n",
      "10     2013             757 million\n",
      "11     2012             618 million\n",
      "12     2011             418 million\n"
     ]
    }
   ],
   "source": [
    "instadf1=pd.read_html(str(insta1))\n",
    "\n",
    "#number of active users\n",
    "instadf1=pd.DataFrame(instadf1[0])\n",
    "print(instadf1)"
   ]
  },
  {
   "cell_type": "code",
   "execution_count": 8,
   "id": "a8178395",
   "metadata": {},
   "outputs": [],
   "source": [
    "insta2 = instasoup1.find_all('figure', {'class':\"wp-block-table\"})[-1]"
   ]
  },
  {
   "cell_type": "code",
   "execution_count": 9,
   "id": "4ddd1254",
   "metadata": {},
   "outputs": [
    {
     "name": "stdout",
     "output_type": "stream",
     "text": [
      "      0                         1\n",
      "0  Year  Instagram Annual Revenue\n",
      "1  2021             $47.6 billion\n",
      "2  2020             $26.8 billion\n",
      "3  2019             $19.4 billion\n",
      "4  2018             $10.3 billion\n",
      "5  2017              $4.1 billion\n",
      "6  2016              $1.8 billion\n",
      "7  2015              $500 million\n"
     ]
    }
   ],
   "source": [
    "instadf2 = pd.read_html(str(insta2))\n",
    "#instagram annual revenue\n",
    "instadf2 = pd.DataFrame(instadf2[0])\n",
    "print(instadf2)"
   ]
  },
  {
   "cell_type": "code",
   "execution_count": null,
   "id": "91200e3d",
   "metadata": {},
   "outputs": [],
   "source": []
  },
  {
   "cell_type": "markdown",
   "id": "84945d43",
   "metadata": {},
   "source": [
    "## LinkedIn Data"
   ]
  },
  {
   "cell_type": "markdown",
   "id": "e9b331c4",
   "metadata": {},
   "source": [
    "Miscellaneous Information:\n",
    "Launch Date May 5, 2003"
   ]
  },
  {
   "cell_type": "code",
   "execution_count": 10,
   "id": "2566c832",
   "metadata": {},
   "outputs": [],
   "source": [
    "#linkedinurl1 = 'https://mobilemarketingreads.com/linkedin-revenue-and-user-statistics/'\n",
    "\n",
    "#response=requests.get(linkedinurl1)\n",
    "#print(response.status_code)"
   ]
  },
  {
   "cell_type": "code",
   "execution_count": 11,
   "id": "5a8509cd",
   "metadata": {},
   "outputs": [],
   "source": [
    "#linkedsoup1 = BeautifulSoup(response.text, 'html.parser')\n",
    "#linkedin = linkedsoup1.find('figure',{'class':\"bChart\"})"
   ]
  },
  {
   "cell_type": "code",
   "execution_count": 12,
   "id": "83fa2a11",
   "metadata": {},
   "outputs": [],
   "source": [
    "#linkedindf1=pd.read_html(str(linkedin))\n",
    "\n",
    "    #number of active users\n",
    "\n",
    "#linkedindf1 = pd.DataFrame(linkedindf1[0])\n",
    "#print(linkedindf1)"
   ]
  },
  {
   "cell_type": "markdown",
   "id": "2c04cd78",
   "metadata": {},
   "source": [
    "^this doesnt work since we cant pull from pictures mobilemarketingreads.com"
   ]
  },
  {
   "cell_type": "code",
   "execution_count": null,
   "id": "217449a6",
   "metadata": {},
   "outputs": [],
   "source": []
  },
  {
   "cell_type": "code",
   "execution_count": null,
   "id": "eed867b8",
   "metadata": {},
   "outputs": [],
   "source": []
  },
  {
   "cell_type": "code",
   "execution_count": null,
   "id": "5ca84f2a",
   "metadata": {},
   "outputs": [],
   "source": []
  },
  {
   "cell_type": "markdown",
   "id": "139c9dd2",
   "metadata": {},
   "source": [
    "## TikTok Data"
   ]
  },
  {
   "cell_type": "markdown",
   "id": "fd5576a3",
   "metadata": {},
   "source": [
    "Miscellaneous Information:\n",
    "Launch Date September 2016"
   ]
  },
  {
   "cell_type": "code",
   "execution_count": 13,
   "id": "ac477937",
   "metadata": {},
   "outputs": [
    {
     "name": "stdout",
     "output_type": "stream",
     "text": [
      "200\n"
     ]
    }
   ],
   "source": [
    "tiktokurl1 = 'https://mobilemarketingreads.com/tiktok-revenue-and-usage-statistics-2020/'\n",
    "\n",
    "response=requests.get(tiktokurl1)\n",
    "print(response.status_code)"
   ]
  },
  {
   "cell_type": "code",
   "execution_count": 14,
   "id": "f4a1487b",
   "metadata": {},
   "outputs": [],
   "source": [
    "tiktoksoup1 = BeautifulSoup(response.text, 'html.parser')\n",
    "tiktok=tiktoksoup1.find_all('figure',{'class':\"wp-block-table\"})[-1]"
   ]
  },
  {
   "cell_type": "code",
   "execution_count": 15,
   "id": "96e788a6",
   "metadata": {},
   "outputs": [
    {
     "name": "stdout",
     "output_type": "stream",
     "text": [
      "      0                            1\n",
      "0  Year  TikTok Monthly Active Users\n",
      "1  2021                    1 billion\n",
      "2  2020                  689 million\n",
      "3  2019                  508 million\n",
      "4  2018                  271 million\n",
      "5  2017                   55 million\n"
     ]
    }
   ],
   "source": [
    "tiktokdf1=pd.read_html(str(tiktok))\n",
    "\n",
    "#number of active users\n",
    "tiktokdf1=pd.DataFrame(tiktokdf1[0])\n",
    "print(tiktokdf1)"
   ]
  },
  {
   "cell_type": "code",
   "execution_count": null,
   "id": "bf9aa129",
   "metadata": {},
   "outputs": [],
   "source": []
  },
  {
   "cell_type": "code",
   "execution_count": null,
   "id": "d0e0016d",
   "metadata": {},
   "outputs": [],
   "source": []
  },
  {
   "cell_type": "code",
   "execution_count": null,
   "id": "3b263fe6",
   "metadata": {},
   "outputs": [],
   "source": []
  },
  {
   "cell_type": "code",
   "execution_count": null,
   "id": "599c7e95",
   "metadata": {},
   "outputs": [],
   "source": []
  },
  {
   "cell_type": "code",
   "execution_count": null,
   "id": "e24f532e",
   "metadata": {},
   "outputs": [],
   "source": []
  },
  {
   "cell_type": "code",
   "execution_count": null,
   "id": "22e6e620",
   "metadata": {},
   "outputs": [],
   "source": []
  },
  {
   "cell_type": "markdown",
   "id": "534587a2",
   "metadata": {},
   "source": [
    "## Facebook"
   ]
  },
  {
   "cell_type": "markdown",
   "id": "bbbf9b41",
   "metadata": {},
   "source": [
    "Miscellaneous Information:\n",
    "Launch Date "
   ]
  },
  {
   "cell_type": "markdown",
   "id": "c112058a",
   "metadata": {},
   "source": [
    "same as linkedin for mobilemarketingreads.com, can't pull images"
   ]
  },
  {
   "cell_type": "markdown",
   "id": "c35341c0",
   "metadata": {},
   "source": [
    "https://financesonline.com/facebook-statistics/#financial"
   ]
  },
  {
   "cell_type": "markdown",
   "id": "b7e55f41",
   "metadata": {},
   "source": [
    "https://investor.fb.com/financials/default.aspx"
   ]
  },
  {
   "cell_type": "code",
   "execution_count": 36,
   "id": "c86be198",
   "metadata": {},
   "outputs": [],
   "source": [
    "#facebookurl1 = 'https://www.investing.com/academy/statistics/facebook-meta-facts/'\n",
    "#response=requests.get(facebookurl1)\n",
    "#print(response.status_code)\n",
    "#facebooksoup1 = BeautifulSoup(response.text, 'html.parser')\n",
    "#facebook=facebooksoup1.find('figure',{'class':\"wp-block-table\"})\n",
    "#facebookdf1 = pd.read_html(str(facebook))\n",
    "#facebookdf1 = pd.DataFrame(facebookdf1[0])\n",
    "#print(facebookdf1.head())"
   ]
  },
  {
   "cell_type": "code",
   "execution_count": null,
   "id": "e6858180",
   "metadata": {},
   "outputs": [],
   "source": []
  },
  {
   "cell_type": "code",
   "execution_count": null,
   "id": "18414418",
   "metadata": {},
   "outputs": [],
   "source": []
  },
  {
   "cell_type": "code",
   "execution_count": null,
   "id": "ac3dc5f3",
   "metadata": {},
   "outputs": [],
   "source": []
  },
  {
   "cell_type": "code",
   "execution_count": null,
   "id": "e4f0f148",
   "metadata": {},
   "outputs": [],
   "source": []
  },
  {
   "cell_type": "code",
   "execution_count": null,
   "id": "30e58e74",
   "metadata": {},
   "outputs": [],
   "source": []
  },
  {
   "cell_type": "markdown",
   "id": "7aece94b",
   "metadata": {},
   "source": [
    "## Suicide Data"
   ]
  },
  {
   "cell_type": "markdown",
   "id": "347038c3",
   "metadata": {},
   "source": [
    "Miscellaneous Information:\n",
    "Start Date of Data"
   ]
  },
  {
   "cell_type": "code",
   "execution_count": 16,
   "id": "c5e275d3",
   "metadata": {},
   "outputs": [
    {
     "name": "stdout",
     "output_type": "stream",
     "text": [
      "  State / Region  1990  1991  1992  1993  1994  1995  1996  1997  1998  ...  2011  2012  2013  2014  2015  2016  2017  2018    2019  2020\n",
      "0        Alabama   514   539   523   551   532   563   513   512   569  ...   654   724   721   715   750   788   836   823   804.0   793\n",
      "1         Alaska    70    73    90    97   121   103   120   128   129  ...   143   168   171   167   201   193   200   184   210.0   204\n",
      "2        Arizona   686   662   653   727   767   805   726   757   804  ...  1160  1156  1163  1244  1276  1271  1327  1438  1419.0  1363\n",
      "3       Arkansas   293   283   293   317   364   360   323   356   344  ...   462   485   516   515   577   555   631   554   548.0   583\n",
      "4     California  3708  3716  3723  3875  3712  3694  3408  3430  3415  ...  3996  3893  4025  4214  4167  4294  4312  4491  4436.0  4144\n",
      "\n",
      "[5 rows x 32 columns]\n"
     ]
    }
   ],
   "source": [
    "#table ripped from https://save.org/wp-content/uploads/2022/01/StateNumberOfSui1990to2020TABLE.pdf\n",
    "#copied, pasted onto GoogleSheets\n",
    "#used \" =SPLIT(A1, \" \") \" to split the data\n",
    "#cleaned specific rows where columns did not match up\n",
    "#exported GoogleSheet into .csv, saved into Capstone 2 \n",
    "\n",
    "suicidebyyearstate = pd.read_csv(r'C:\\Users\\vtole\\Springboard\\Springboard\\Capstone-2-Springboard\\Number of Suicides Per Year Per State.csv')\n",
    "suicidebyyearstate = pd.DataFrame(suicidebyyearstate)\n",
    "\n",
    "print(suicidebyyearstate.head())"
   ]
  },
  {
   "cell_type": "markdown",
   "id": "9e6c3da4",
   "metadata": {},
   "source": [
    "https://save.org/about-suicide/suicide-statistics/"
   ]
  },
  {
   "cell_type": "markdown",
   "id": "629a498f",
   "metadata": {},
   "source": [
    "https://wisqars.cdc.gov/data/explore-data/explore/selected-years?ex=eyJ0YmkiOlsiMCJdLCJpbnRlbnRzIjpbIjIiXSwibWVjaHMiOlsiMjA4MTAiXSwic3RhdGUiOlsiMDEiLCIwMiIsIjA0IiwiMDUiLCIwNiIsIjA4IiwiMDkiLCIxMCIsIjExIiwiMTIiLCIxMyIsIjE1IiwiMTYiLCIxNyIsIjE4IiwiMTkiLCIyMCIsIjIxIiwiMjIiLCIyMyIsIjI0IiwiMjUiLCIyNiIsIjI3IiwiMjgiLCIyOSIsIjMwIiwiMzEiLCIzMiIsIjMzIiwiMzQiLCIzNSIsIjM2IiwiMzciLCIzOCIsIjM5IiwiNDAiLCI0MSIsIjQyIiwiNDQiLCI0NSIsIjQ2IiwiNDciLCI0OCIsIjQ5IiwiNTAiLCI1MSIsIjUzIiwiNTQiLCI1NSIsIjU2Il0sInJhY2UiOlsiMSIsIjIiLCIzIiwiNCJdLCJldGhuaWN0eSI6WyIxIiwiMiIsIjMiXSwibWV0cm8iOlsiMSIsIjIiXSwic2V4IjpbIjEiLCIyIl0sImFnZUdyb3Vwc01pbiI6WyIwMC0wNCJdLCJhZ2VHcm91cHNNYXgiOlsiMTk5Il0sImN1c3RvbUFnZXNNaW4iOlsiMCJdLCJjdXN0b21BZ2VzTWF4IjpbIjE5OSJdLCJmcm9tWWVhciI6WyIyMDAxIl0sInRvWWVhciI6WyIyMDIwIl0sImFnZWJ1dHRuIjoiNVlyIiwiZ3JvdXBieTEiOiJBR0VHUCIsInlwbGxBZ2VzIjpbIjY1Il19"
   ]
  },
  {
   "cell_type": "code",
   "execution_count": null,
   "id": "15436caf",
   "metadata": {},
   "outputs": [],
   "source": []
  },
  {
   "cell_type": "code",
   "execution_count": null,
   "id": "b95fe87c",
   "metadata": {},
   "outputs": [],
   "source": []
  },
  {
   "cell_type": "code",
   "execution_count": null,
   "id": "848e1e7a",
   "metadata": {},
   "outputs": [],
   "source": []
  },
  {
   "cell_type": "code",
   "execution_count": null,
   "id": "34280ad4",
   "metadata": {},
   "outputs": [],
   "source": []
  },
  {
   "cell_type": "code",
   "execution_count": null,
   "id": "705e4102",
   "metadata": {},
   "outputs": [],
   "source": []
  },
  {
   "cell_type": "code",
   "execution_count": null,
   "id": "44a7e2c4",
   "metadata": {},
   "outputs": [],
   "source": []
  }
 ],
 "metadata": {
  "kernelspec": {
   "display_name": "Python 3 (ipykernel)",
   "language": "python",
   "name": "python3"
  },
  "language_info": {
   "codemirror_mode": {
    "name": "ipython",
    "version": 3
   },
   "file_extension": ".py",
   "mimetype": "text/x-python",
   "name": "python",
   "nbconvert_exporter": "python",
   "pygments_lexer": "ipython3",
   "version": "3.9.12"
  }
 },
 "nbformat": 4,
 "nbformat_minor": 5
}
